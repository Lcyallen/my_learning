{
 "cells": [
  {
   "cell_type": "code",
   "execution_count": 17,
   "id": "2b589d62",
   "metadata": {},
   "outputs": [
    {
     "name": "stdout",
     "output_type": "stream",
     "text": [
      "1JKJ'pz'{ol'{yhklthyr'vm'{ol'Jvu{yvs'Kh{h'Jvywvyh{pvu5\n",
      "*CDC is the trademark of the Control Data Corporation."
     ]
    }
   ],
   "source": [
    "#print (ord('a'))  #用ord可以把字元轉成ascii碼\n",
    "#print (chr(97))\n",
    "a=input()\n",
    "for i in a:\n",
    "    print (chr(ord(i)-7),end='')"
   ]
  }
 ],
 "metadata": {
  "kernelspec": {
   "display_name": "Python 3 (ipykernel)",
   "language": "python",
   "name": "python3"
  },
  "language_info": {
   "codemirror_mode": {
    "name": "ipython",
    "version": 3
   },
   "file_extension": ".py",
   "mimetype": "text/x-python",
   "name": "python",
   "nbconvert_exporter": "python",
   "pygments_lexer": "ipython3",
   "version": "3.9.12"
  }
 },
 "nbformat": 4,
 "nbformat_minor": 5
}
