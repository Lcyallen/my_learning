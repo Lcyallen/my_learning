{
 "cells": [
  {
   "cell_type": "code",
   "execution_count": 6,
   "id": "1e2973f9",
   "metadata": {},
   "outputs": [
    {
     "name": "stdout",
     "output_type": "stream",
     "text": [
      "請輸入3個數字6\n",
      "請輸入3個數字8\n",
      "請輸入3個數字10\n",
      "8.0\n"
     ]
    }
   ],
   "source": [
    "sum = 0\n",
    "for i in range (3): #range後面的數字前須有括號\n",
    "    a = int(input (\"請輸入3個數字\")) #一定要有int在input之前宣告\n",
    "    sum += a\n",
    "print (sum/3)"
   ]
  },
  {
   "cell_type": "code",
   "execution_count": null,
   "id": "72644827",
   "metadata": {},
   "outputs": [],
   "source": []
  }
 ],
 "metadata": {
  "kernelspec": {
   "display_name": "Python 3 (ipykernel)",
   "language": "python",
   "name": "python3"
  },
  "language_info": {
   "codemirror_mode": {
    "name": "ipython",
    "version": 3
   },
   "file_extension": ".py",
   "mimetype": "text/x-python",
   "name": "python",
   "nbconvert_exporter": "python",
   "pygments_lexer": "ipython3",
   "version": "3.9.12"
  }
 },
 "nbformat": 4,
 "nbformat_minor": 5
}
