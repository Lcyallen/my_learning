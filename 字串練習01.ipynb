{
 "cells": [
  {
   "cell_type": "markdown",
   "id": "6cca74d5",
   "metadata": {},
   "source": [
    "# 探索字串如何搭配print處理"
   ]
  },
  {
   "cell_type": "code",
   "execution_count": 5,
   "id": "6ea6709c",
   "metadata": {},
   "outputs": [
    {
     "name": "stdout",
     "output_type": "stream",
     "text": [
      "Allen loves python\n"
     ]
    }
   ],
   "source": [
    "s='Allen loves python'\n",
    "#可直接印出全部字串\n",
    "print (s)"
   ]
  },
  {
   "cell_type": "code",
   "execution_count": 6,
   "id": "ee1d80ba",
   "metadata": {},
   "outputs": [
    {
     "name": "stdout",
     "output_type": "stream",
     "text": [
      "<class 'str'>\n"
     ]
    }
   ],
   "source": [
    "#可印出字串的型態\n",
    "print (type(s))"
   ]
  },
  {
   "cell_type": "code",
   "execution_count": 4,
   "id": "50a51357",
   "metadata": {},
   "outputs": [
    {
     "name": "stdout",
     "output_type": "stream",
     "text": [
      "18\n"
     ]
    }
   ],
   "source": [
    "#可印出字串長度\n",
    "print(len(s))"
   ]
  },
  {
   "cell_type": "code",
   "execution_count": 14,
   "id": "cda304dd",
   "metadata": {},
   "outputs": [
    {
     "name": "stdout",
     "output_type": "stream",
     "text": [
      "e\n"
     ]
    }
   ],
   "source": [
    "#可列印字串某個字元\n",
    "print (s[3])"
   ]
  },
  {
   "cell_type": "code",
   "execution_count": 4,
   "id": "2adf147d",
   "metadata": {},
   "outputs": [
    {
     "name": "stdout",
     "output_type": "stream",
     "text": [
      "llen love\n"
     ]
    }
   ],
   "source": [
    "#可印字串某個範圍\n",
    "s='Allen loves python'\n",
    "print (s[1:10])  #[開始位置:結束位置]"
   ]
  },
  {
   "cell_type": "code",
   "execution_count": 8,
   "id": "b7948dab",
   "metadata": {},
   "outputs": [
    {
     "name": "stdout",
     "output_type": "stream",
     "text": [
      "Allen lo\n"
     ]
    }
   ],
   "source": [
    "#如果開始位置沒填=0\n",
    "print (s[:8])"
   ]
  },
  {
   "cell_type": "code",
   "execution_count": 10,
   "id": "aa8f0a8b",
   "metadata": {},
   "outputs": [
    {
     "name": "stdout",
     "output_type": "stream",
     "text": [
      "loves python\n"
     ]
    }
   ],
   "source": [
    "#如果結束位置沒填=len(str)\n",
    "print (s[6:])"
   ]
  },
  {
   "cell_type": "code",
   "execution_count": 20,
   "id": "224c1c17",
   "metadata": {
    "scrolled": false
   },
   "outputs": [
    {
     "name": "stdout",
     "output_type": "stream",
     "text": [
      "nohtyp sevol nellA\n"
     ]
    }
   ],
   "source": [
    "#後來發現可以「由後往前」印！\n",
    "print (s[::-1])   #讓\"間隔=-1\""
   ]
  },
  {
   "cell_type": "code",
   "execution_count": 23,
   "id": "35eb0666",
   "metadata": {},
   "outputs": [
    {
     "name": "stdout",
     "output_type": "stream",
     "text": [
      "Alnlvspto  "
     ]
    }
   ],
   "source": [
    "#利用上面規則，我發現可以怎麼\"間隔印出\"了！\n",
    "print (s[::2])"
   ]
  },
  {
   "cell_type": "code",
   "execution_count": 5,
   "id": "3ef8dc7f",
   "metadata": {},
   "outputs": [
    {
     "name": "stdout",
     "output_type": "stream",
     "text": [
      "Aeleph "
     ]
    }
   ],
   "source": [
    "#但是無法讓印出來的字元空一格！還需要再思考\n",
    "print (s[::3],end=\" \")"
   ]
  },
  {
   "cell_type": "code",
   "execution_count": 11,
   "id": "e58cef02",
   "metadata": {},
   "outputs": [
    {
     "name": "stdout",
     "output_type": "stream",
     "text": [
      "Alnlvspto \n"
     ]
    }
   ],
   "source": [
    "print (s[::2]+' ')  #這樣寫也是在印完之後才空格"
   ]
  },
  {
   "cell_type": "markdown",
   "id": "1f7fd0a7",
   "metadata": {},
   "source": [
    "# 搭配for來使用"
   ]
  },
  {
   "cell_type": "code",
   "execution_count": 12,
   "id": "d4d1d176",
   "metadata": {},
   "outputs": [
    {
     "name": "stdout",
     "output_type": "stream",
     "text": [
      "Allen loves python"
     ]
    }
   ],
   "source": [
    "for i in s:  #可以直接 \"in s\"\n",
    "    print (i, end='')  #此時要印出\"i\"；有\"end=''\"才能印整行"
   ]
  },
  {
   "cell_type": "code",
   "execution_count": 9,
   "id": "950e3336",
   "metadata": {
    "scrolled": true
   },
   "outputs": [
    {
     "name": "stdout",
     "output_type": "stream",
     "text": [
      "Allen loves python\n",
      "Allen loves python\n",
      "Allen loves python\n",
      "Allen loves python\n",
      "Allen loves python\n",
      "Allen loves python\n",
      "Allen loves python\n",
      "Allen loves python\n",
      "Allen loves python\n",
      "Allen loves python\n",
      "Allen loves python\n",
      "Allen loves python\n",
      "Allen loves python\n",
      "Allen loves python\n",
      "Allen loves python\n",
      "Allen loves python\n",
      "Allen loves python\n",
      "Allen loves python\n"
     ]
    }
   ],
   "source": [
    "s='Allen loves python'\n",
    "for i in s:\n",
    "    print (s[::])   #這樣寫會印len(s)次結果！可以對照上面發現確實只多寫了\"for\"，表示要重複作n次"
   ]
  },
  {
   "cell_type": "code",
   "execution_count": 7,
   "id": "0590d368",
   "metadata": {},
   "outputs": [
    {
     "ename": "TypeError",
     "evalue": "string indices must be integers",
     "output_type": "error",
     "traceback": [
      "\u001b[1;31m---------------------------------------------------------------------------\u001b[0m",
      "\u001b[1;31mTypeError\u001b[0m                                 Traceback (most recent call last)",
      "Input \u001b[1;32mIn [7]\u001b[0m, in \u001b[0;36m<cell line: 2>\u001b[1;34m()\u001b[0m\n\u001b[0;32m      1\u001b[0m s\u001b[38;5;241m=\u001b[39m\u001b[38;5;124m'\u001b[39m\u001b[38;5;124mAllen loves python\u001b[39m\u001b[38;5;124m'\u001b[39m\n\u001b[0;32m      2\u001b[0m \u001b[38;5;28;01mfor\u001b[39;00m i \u001b[38;5;129;01min\u001b[39;00m s:\n\u001b[1;32m----> 3\u001b[0m     \u001b[38;5;28mprint\u001b[39m (\u001b[43ms\u001b[49m\u001b[43m[\u001b[49m\u001b[43mi\u001b[49m\u001b[43m]\u001b[49m)\n",
      "\u001b[1;31mTypeError\u001b[0m: string indices must be integers"
     ]
    }
   ],
   "source": [
    "s='Allen loves python'\n",
    "for i in s:\n",
    "    print (s[i])   #這樣寫會出現錯誤！所以此時的i不是int！那要如何理解這個i呢？"
   ]
  },
  {
   "cell_type": "code",
   "execution_count": 13,
   "id": "e8dca2ea",
   "metadata": {},
   "outputs": [
    {
     "name": "stdout",
     "output_type": "stream",
     "text": [
      "A l l e n   l o v e s   p y t h o n "
     ]
    }
   ],
   "source": [
    "for i in s:\n",
    "    print (i+\" \",end='')  #我竟然找到解決方法了！在print的()內用\"+\"搭配\"end=\""
   ]
  },
  {
   "cell_type": "code",
   "execution_count": 14,
   "id": "3694dd04",
   "metadata": {},
   "outputs": [
    {
     "name": "stdout",
     "output_type": "stream",
     "text": [
      "Alnlvspto Alnlvspto Alnlvspto Alnlvspto Alnlvspto Alnlvspto Alnlvspto Alnlvspto Alnlvspto Alnlvspto Alnlvspto Alnlvspto Alnlvspto Alnlvspto Alnlvspto Alnlvspto Alnlvspto Alnlvspto "
     ]
    }
   ],
   "source": [
    "for i in s:\n",
    "    print (s[::2]+' ',end='')  #我發現這樣會重複印n次！"
   ]
  },
  {
   "cell_type": "code",
   "execution_count": 20,
   "id": "69875861",
   "metadata": {},
   "outputs": [
    {
     "name": "stdout",
     "output_type": "stream",
     "text": [
      "A l l e n   l o v e s   p y t h o n "
     ]
    }
   ],
   "source": [
    "for i in s:\n",
    "    print (i[::-1]+' ',end='')  #i無法輸入起始值和結束值，寫間隔也沒有用。"
   ]
  },
  {
   "cell_type": "code",
   "execution_count": null,
   "id": "3457bcd5",
   "metadata": {},
   "outputs": [],
   "source": []
  }
 ],
 "metadata": {
  "kernelspec": {
   "display_name": "Python 3 (ipykernel)",
   "language": "python",
   "name": "python3"
  },
  "language_info": {
   "codemirror_mode": {
    "name": "ipython",
    "version": 3
   },
   "file_extension": ".py",
   "mimetype": "text/x-python",
   "name": "python",
   "nbconvert_exporter": "python",
   "pygments_lexer": "ipython3",
   "version": "3.9.12"
  }
 },
 "nbformat": 4,
 "nbformat_minor": 5
}
